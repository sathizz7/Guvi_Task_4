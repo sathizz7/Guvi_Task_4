{
  "cells": [
    {
      "cell_type": "markdown",
      "metadata": {
        "id": "view-in-github",
        "colab_type": "text"
      },
      "source": [
        "<a href=\"https://colab.research.google.com/github/sathizz7/Guvi_Task_4/blob/main/Assessment_2B.ipynb\" target=\"_parent\"><img src=\"https://colab.research.google.com/assets/colab-badge.svg\" alt=\"Open In Colab\"/></a>"
      ]
    },
    {
      "cell_type": "markdown",
      "metadata": {
        "id": "_XtTIuT-ASmB"
      },
      "source": [
        "###### Assessment"
      ]
    },
    {
      "cell_type": "markdown",
      "metadata": {
        "id": "CdhxsqH-ASmH"
      },
      "source": [
        "###### I am going to provide two .csv files , you are supposed to work on them and have to provide solutions to the following problems"
      ]
    },
    {
      "cell_type": "markdown",
      "metadata": {
        "id": "uRDPEtN2ASmI"
      },
      "source": [
        "###### import necessary libraries"
      ]
    },
    {
      "cell_type": "code",
      "execution_count": null,
      "metadata": {
        "id": "74b-syunASmJ"
      },
      "outputs": [],
      "source": [
        "import pandas as pd\n",
        "import numpy as np"
      ]
    },
    {
      "cell_type": "markdown",
      "metadata": {
        "id": "0WJItZVZASmL"
      },
      "source": [
        "###### merge those two csv files (after getting as dataframes, get them as a single dataframe)"
      ]
    },
    {
      "cell_type": "code",
      "execution_count": null,
      "metadata": {
        "id": "K94d_-OIASmL"
      },
      "outputs": [],
      "source": [
        "d1 = pd.read_csv('college_1.csv')\n",
        "d2 = pd.read_csv('college_2.csv')"
      ]
    },
    {
      "cell_type": "code",
      "source": [
        "d1.shape"
      ],
      "metadata": {
        "colab": {
          "base_uri": "https://localhost:8080/"
        },
        "id": "q-Bv_38qCPZp",
        "outputId": "9b605d3d-5bcc-4d64-bd83-e69cca49f8ce"
      },
      "execution_count": null,
      "outputs": [
        {
          "output_type": "execute_result",
          "data": {
            "text/plain": [
              "(84, 7)"
            ]
          },
          "metadata": {},
          "execution_count": 46
        }
      ]
    },
    {
      "cell_type": "code",
      "source": [
        "d2.shape"
      ],
      "metadata": {
        "colab": {
          "base_uri": "https://localhost:8080/"
        },
        "id": "2sFY_SDiCQ9h",
        "outputId": "035505f2-da58-4580-c6f3-b70849f69def"
      },
      "execution_count": null,
      "outputs": [
        {
          "output_type": "execute_result",
          "data": {
            "text/plain": [
              "(35, 9)"
            ]
          },
          "metadata": {},
          "execution_count": 47
        }
      ]
    },
    {
      "cell_type": "code",
      "source": [
        "data = pd.concat([d1,d2])"
      ],
      "metadata": {
        "id": "rgxYrBo8RpCY"
      },
      "execution_count": null,
      "outputs": []
    },
    {
      "cell_type": "code",
      "source": [
        "data"
      ],
      "metadata": {
        "colab": {
          "base_uri": "https://localhost:8080/",
          "height": 424
        },
        "id": "Aote2AX1r3hu",
        "outputId": "20209e5c-0b0e-421f-ac7c-d81261645cfb"
      },
      "execution_count": null,
      "outputs": [
        {
          "output_type": "execute_result",
          "data": {
            "text/plain": [
              "             Name  python  mysql  Previous Geekions  CodeKata Score  \\\n",
              "0       A.Dharani    82.0   20.0              24500           24500   \n",
              "1     V.JEEVITHA     82.0   20.0              21740           21740   \n",
              "2     HEMAVATHI.R   100.0  100.0              19680           19680   \n",
              "3     Mugunthan S   100.0   47.0              10610           10610   \n",
              "4     Sathammai.S   100.0    8.0               8980            8980   \n",
              "..            ...     ...    ...                ...             ...   \n",
              "30  praveen raj j    24.0    0.0               2380            2380   \n",
              "31     AMARNATH D    -1.0   12.0               1890            1890   \n",
              "32           bala    32.0    0.0               1720            1720   \n",
              "33           XY Z    -1.0   -1.0                  0               0   \n",
              "34      Hariharan    -1.0   -1.0                  0               0   \n",
              "\n",
              "                                   Department  Rising  python_en  \\\n",
              "0            Computer Science and Engineering       0        NaN   \n",
              "1            Computer Science and Engineering       0        NaN   \n",
              "2            Computer Science and Engineering       0        NaN   \n",
              "3            Computer Science and Engineering       0        NaN   \n",
              "4            Computer Science and Engineering       0        NaN   \n",
              "..                                        ...     ...        ...   \n",
              "30           Computer Science and Engineering       0       -1.0   \n",
              "31  Electronics and Communication Engineering       0       52.0   \n",
              "32  Electronics and Communication Engineering       0       49.0   \n",
              "33           Computer Science and Engineering       0       20.0   \n",
              "34           Computer Science and Engineering       0       -1.0   \n",
              "\n",
              "    computational_thinking  \n",
              "0                      NaN  \n",
              "1                      NaN  \n",
              "2                      NaN  \n",
              "3                      NaN  \n",
              "4                      NaN  \n",
              "..                     ...  \n",
              "30                     0.0  \n",
              "31                    -1.0  \n",
              "32                    -1.0  \n",
              "33                    -1.0  \n",
              "34                     0.0  \n",
              "\n",
              "[119 rows x 9 columns]"
            ],
            "text/html": [
              "\n",
              "  <div id=\"df-cfc3a457-ba2f-472b-ab0e-8a574e523379\">\n",
              "    <div class=\"colab-df-container\">\n",
              "      <div>\n",
              "<style scoped>\n",
              "    .dataframe tbody tr th:only-of-type {\n",
              "        vertical-align: middle;\n",
              "    }\n",
              "\n",
              "    .dataframe tbody tr th {\n",
              "        vertical-align: top;\n",
              "    }\n",
              "\n",
              "    .dataframe thead th {\n",
              "        text-align: right;\n",
              "    }\n",
              "</style>\n",
              "<table border=\"1\" class=\"dataframe\">\n",
              "  <thead>\n",
              "    <tr style=\"text-align: right;\">\n",
              "      <th></th>\n",
              "      <th>Name</th>\n",
              "      <th>python</th>\n",
              "      <th>mysql</th>\n",
              "      <th>Previous Geekions</th>\n",
              "      <th>CodeKata Score</th>\n",
              "      <th>Department</th>\n",
              "      <th>Rising</th>\n",
              "      <th>python_en</th>\n",
              "      <th>computational_thinking</th>\n",
              "    </tr>\n",
              "  </thead>\n",
              "  <tbody>\n",
              "    <tr>\n",
              "      <th>0</th>\n",
              "      <td>A.Dharani</td>\n",
              "      <td>82.0</td>\n",
              "      <td>20.0</td>\n",
              "      <td>24500</td>\n",
              "      <td>24500</td>\n",
              "      <td>Computer Science and Engineering</td>\n",
              "      <td>0</td>\n",
              "      <td>NaN</td>\n",
              "      <td>NaN</td>\n",
              "    </tr>\n",
              "    <tr>\n",
              "      <th>1</th>\n",
              "      <td>V.JEEVITHA</td>\n",
              "      <td>82.0</td>\n",
              "      <td>20.0</td>\n",
              "      <td>21740</td>\n",
              "      <td>21740</td>\n",
              "      <td>Computer Science and Engineering</td>\n",
              "      <td>0</td>\n",
              "      <td>NaN</td>\n",
              "      <td>NaN</td>\n",
              "    </tr>\n",
              "    <tr>\n",
              "      <th>2</th>\n",
              "      <td>HEMAVATHI.R</td>\n",
              "      <td>100.0</td>\n",
              "      <td>100.0</td>\n",
              "      <td>19680</td>\n",
              "      <td>19680</td>\n",
              "      <td>Computer Science and Engineering</td>\n",
              "      <td>0</td>\n",
              "      <td>NaN</td>\n",
              "      <td>NaN</td>\n",
              "    </tr>\n",
              "    <tr>\n",
              "      <th>3</th>\n",
              "      <td>Mugunthan S</td>\n",
              "      <td>100.0</td>\n",
              "      <td>47.0</td>\n",
              "      <td>10610</td>\n",
              "      <td>10610</td>\n",
              "      <td>Computer Science and Engineering</td>\n",
              "      <td>0</td>\n",
              "      <td>NaN</td>\n",
              "      <td>NaN</td>\n",
              "    </tr>\n",
              "    <tr>\n",
              "      <th>4</th>\n",
              "      <td>Sathammai.S</td>\n",
              "      <td>100.0</td>\n",
              "      <td>8.0</td>\n",
              "      <td>8980</td>\n",
              "      <td>8980</td>\n",
              "      <td>Computer Science and Engineering</td>\n",
              "      <td>0</td>\n",
              "      <td>NaN</td>\n",
              "      <td>NaN</td>\n",
              "    </tr>\n",
              "    <tr>\n",
              "      <th>...</th>\n",
              "      <td>...</td>\n",
              "      <td>...</td>\n",
              "      <td>...</td>\n",
              "      <td>...</td>\n",
              "      <td>...</td>\n",
              "      <td>...</td>\n",
              "      <td>...</td>\n",
              "      <td>...</td>\n",
              "      <td>...</td>\n",
              "    </tr>\n",
              "    <tr>\n",
              "      <th>30</th>\n",
              "      <td>praveen raj j</td>\n",
              "      <td>24.0</td>\n",
              "      <td>0.0</td>\n",
              "      <td>2380</td>\n",
              "      <td>2380</td>\n",
              "      <td>Computer Science and Engineering</td>\n",
              "      <td>0</td>\n",
              "      <td>-1.0</td>\n",
              "      <td>0.0</td>\n",
              "    </tr>\n",
              "    <tr>\n",
              "      <th>31</th>\n",
              "      <td>AMARNATH D</td>\n",
              "      <td>-1.0</td>\n",
              "      <td>12.0</td>\n",
              "      <td>1890</td>\n",
              "      <td>1890</td>\n",
              "      <td>Electronics and Communication Engineering</td>\n",
              "      <td>0</td>\n",
              "      <td>52.0</td>\n",
              "      <td>-1.0</td>\n",
              "    </tr>\n",
              "    <tr>\n",
              "      <th>32</th>\n",
              "      <td>bala</td>\n",
              "      <td>32.0</td>\n",
              "      <td>0.0</td>\n",
              "      <td>1720</td>\n",
              "      <td>1720</td>\n",
              "      <td>Electronics and Communication Engineering</td>\n",
              "      <td>0</td>\n",
              "      <td>49.0</td>\n",
              "      <td>-1.0</td>\n",
              "    </tr>\n",
              "    <tr>\n",
              "      <th>33</th>\n",
              "      <td>XY Z</td>\n",
              "      <td>-1.0</td>\n",
              "      <td>-1.0</td>\n",
              "      <td>0</td>\n",
              "      <td>0</td>\n",
              "      <td>Computer Science and Engineering</td>\n",
              "      <td>0</td>\n",
              "      <td>20.0</td>\n",
              "      <td>-1.0</td>\n",
              "    </tr>\n",
              "    <tr>\n",
              "      <th>34</th>\n",
              "      <td>Hariharan</td>\n",
              "      <td>-1.0</td>\n",
              "      <td>-1.0</td>\n",
              "      <td>0</td>\n",
              "      <td>0</td>\n",
              "      <td>Computer Science and Engineering</td>\n",
              "      <td>0</td>\n",
              "      <td>-1.0</td>\n",
              "      <td>0.0</td>\n",
              "    </tr>\n",
              "  </tbody>\n",
              "</table>\n",
              "<p>119 rows × 9 columns</p>\n",
              "</div>\n",
              "      <button class=\"colab-df-convert\" onclick=\"convertToInteractive('df-cfc3a457-ba2f-472b-ab0e-8a574e523379')\"\n",
              "              title=\"Convert this dataframe to an interactive table.\"\n",
              "              style=\"display:none;\">\n",
              "        \n",
              "  <svg xmlns=\"http://www.w3.org/2000/svg\" height=\"24px\"viewBox=\"0 0 24 24\"\n",
              "       width=\"24px\">\n",
              "    <path d=\"M0 0h24v24H0V0z\" fill=\"none\"/>\n",
              "    <path d=\"M18.56 5.44l.94 2.06.94-2.06 2.06-.94-2.06-.94-.94-2.06-.94 2.06-2.06.94zm-11 1L8.5 8.5l.94-2.06 2.06-.94-2.06-.94L8.5 2.5l-.94 2.06-2.06.94zm10 10l.94 2.06.94-2.06 2.06-.94-2.06-.94-.94-2.06-.94 2.06-2.06.94z\"/><path d=\"M17.41 7.96l-1.37-1.37c-.4-.4-.92-.59-1.43-.59-.52 0-1.04.2-1.43.59L10.3 9.45l-7.72 7.72c-.78.78-.78 2.05 0 2.83L4 21.41c.39.39.9.59 1.41.59.51 0 1.02-.2 1.41-.59l7.78-7.78 2.81-2.81c.8-.78.8-2.07 0-2.86zM5.41 20L4 18.59l7.72-7.72 1.47 1.35L5.41 20z\"/>\n",
              "  </svg>\n",
              "      </button>\n",
              "      \n",
              "  <style>\n",
              "    .colab-df-container {\n",
              "      display:flex;\n",
              "      flex-wrap:wrap;\n",
              "      gap: 12px;\n",
              "    }\n",
              "\n",
              "    .colab-df-convert {\n",
              "      background-color: #E8F0FE;\n",
              "      border: none;\n",
              "      border-radius: 50%;\n",
              "      cursor: pointer;\n",
              "      display: none;\n",
              "      fill: #1967D2;\n",
              "      height: 32px;\n",
              "      padding: 0 0 0 0;\n",
              "      width: 32px;\n",
              "    }\n",
              "\n",
              "    .colab-df-convert:hover {\n",
              "      background-color: #E2EBFA;\n",
              "      box-shadow: 0px 1px 2px rgba(60, 64, 67, 0.3), 0px 1px 3px 1px rgba(60, 64, 67, 0.15);\n",
              "      fill: #174EA6;\n",
              "    }\n",
              "\n",
              "    [theme=dark] .colab-df-convert {\n",
              "      background-color: #3B4455;\n",
              "      fill: #D2E3FC;\n",
              "    }\n",
              "\n",
              "    [theme=dark] .colab-df-convert:hover {\n",
              "      background-color: #434B5C;\n",
              "      box-shadow: 0px 1px 3px 1px rgba(0, 0, 0, 0.15);\n",
              "      filter: drop-shadow(0px 1px 2px rgba(0, 0, 0, 0.3));\n",
              "      fill: #FFFFFF;\n",
              "    }\n",
              "  </style>\n",
              "\n",
              "      <script>\n",
              "        const buttonEl =\n",
              "          document.querySelector('#df-cfc3a457-ba2f-472b-ab0e-8a574e523379 button.colab-df-convert');\n",
              "        buttonEl.style.display =\n",
              "          google.colab.kernel.accessAllowed ? 'block' : 'none';\n",
              "\n",
              "        async function convertToInteractive(key) {\n",
              "          const element = document.querySelector('#df-cfc3a457-ba2f-472b-ab0e-8a574e523379');\n",
              "          const dataTable =\n",
              "            await google.colab.kernel.invokeFunction('convertToInteractive',\n",
              "                                                     [key], {});\n",
              "          if (!dataTable) return;\n",
              "\n",
              "          const docLinkHtml = 'Like what you see? Visit the ' +\n",
              "            '<a target=\"_blank\" href=https://colab.research.google.com/notebooks/data_table.ipynb>data table notebook</a>'\n",
              "            + ' to learn more about interactive tables.';\n",
              "          element.innerHTML = '';\n",
              "          dataTable['output_type'] = 'display_data';\n",
              "          await google.colab.output.renderOutput(dataTable, element);\n",
              "          const docLink = document.createElement('div');\n",
              "          docLink.innerHTML = docLinkHtml;\n",
              "          element.appendChild(docLink);\n",
              "        }\n",
              "      </script>\n",
              "    </div>\n",
              "  </div>\n",
              "  "
            ]
          },
          "metadata": {},
          "execution_count": 49
        }
      ]
    },
    {
      "cell_type": "code",
      "source": [
        "data.index = [ i for i in range(len(data))]"
      ],
      "metadata": {
        "id": "AcBsp2sO5OZH"
      },
      "execution_count": null,
      "outputs": []
    },
    {
      "cell_type": "code",
      "source": [
        "data"
      ],
      "metadata": {
        "colab": {
          "base_uri": "https://localhost:8080/",
          "height": 424
        },
        "id": "9HnCfgHQ5OVI",
        "outputId": "fc57b2f8-b59e-444c-91cd-8fe62806b21a"
      },
      "execution_count": null,
      "outputs": [
        {
          "output_type": "execute_result",
          "data": {
            "text/plain": [
              "              Name  python  mysql  Previous Geekions  CodeKata Score  \\\n",
              "0        A.Dharani    82.0   20.0              24500           24500   \n",
              "1      V.JEEVITHA     82.0   20.0              21740           21740   \n",
              "2      HEMAVATHI.R   100.0  100.0              19680           19680   \n",
              "3      Mugunthan S   100.0   47.0              10610           10610   \n",
              "4      Sathammai.S   100.0    8.0               8980            8980   \n",
              "..             ...     ...    ...                ...             ...   \n",
              "114  praveen raj j    24.0    0.0               2380            2380   \n",
              "115     AMARNATH D    -1.0   12.0               1890            1890   \n",
              "116           bala    32.0    0.0               1720            1720   \n",
              "117           XY Z    -1.0   -1.0                  0               0   \n",
              "118      Hariharan    -1.0   -1.0                  0               0   \n",
              "\n",
              "                                    Department  Rising  python_en  \\\n",
              "0             Computer Science and Engineering       0        NaN   \n",
              "1             Computer Science and Engineering       0        NaN   \n",
              "2             Computer Science and Engineering       0        NaN   \n",
              "3             Computer Science and Engineering       0        NaN   \n",
              "4             Computer Science and Engineering       0        NaN   \n",
              "..                                         ...     ...        ...   \n",
              "114           Computer Science and Engineering       0       -1.0   \n",
              "115  Electronics and Communication Engineering       0       52.0   \n",
              "116  Electronics and Communication Engineering       0       49.0   \n",
              "117           Computer Science and Engineering       0       20.0   \n",
              "118           Computer Science and Engineering       0       -1.0   \n",
              "\n",
              "     computational_thinking  \n",
              "0                       NaN  \n",
              "1                       NaN  \n",
              "2                       NaN  \n",
              "3                       NaN  \n",
              "4                       NaN  \n",
              "..                      ...  \n",
              "114                     0.0  \n",
              "115                    -1.0  \n",
              "116                    -1.0  \n",
              "117                    -1.0  \n",
              "118                     0.0  \n",
              "\n",
              "[119 rows x 9 columns]"
            ],
            "text/html": [
              "\n",
              "  <div id=\"df-8172f303-79f4-4345-80ca-e6e0542b98f2\">\n",
              "    <div class=\"colab-df-container\">\n",
              "      <div>\n",
              "<style scoped>\n",
              "    .dataframe tbody tr th:only-of-type {\n",
              "        vertical-align: middle;\n",
              "    }\n",
              "\n",
              "    .dataframe tbody tr th {\n",
              "        vertical-align: top;\n",
              "    }\n",
              "\n",
              "    .dataframe thead th {\n",
              "        text-align: right;\n",
              "    }\n",
              "</style>\n",
              "<table border=\"1\" class=\"dataframe\">\n",
              "  <thead>\n",
              "    <tr style=\"text-align: right;\">\n",
              "      <th></th>\n",
              "      <th>Name</th>\n",
              "      <th>python</th>\n",
              "      <th>mysql</th>\n",
              "      <th>Previous Geekions</th>\n",
              "      <th>CodeKata Score</th>\n",
              "      <th>Department</th>\n",
              "      <th>Rising</th>\n",
              "      <th>python_en</th>\n",
              "      <th>computational_thinking</th>\n",
              "    </tr>\n",
              "  </thead>\n",
              "  <tbody>\n",
              "    <tr>\n",
              "      <th>0</th>\n",
              "      <td>A.Dharani</td>\n",
              "      <td>82.0</td>\n",
              "      <td>20.0</td>\n",
              "      <td>24500</td>\n",
              "      <td>24500</td>\n",
              "      <td>Computer Science and Engineering</td>\n",
              "      <td>0</td>\n",
              "      <td>NaN</td>\n",
              "      <td>NaN</td>\n",
              "    </tr>\n",
              "    <tr>\n",
              "      <th>1</th>\n",
              "      <td>V.JEEVITHA</td>\n",
              "      <td>82.0</td>\n",
              "      <td>20.0</td>\n",
              "      <td>21740</td>\n",
              "      <td>21740</td>\n",
              "      <td>Computer Science and Engineering</td>\n",
              "      <td>0</td>\n",
              "      <td>NaN</td>\n",
              "      <td>NaN</td>\n",
              "    </tr>\n",
              "    <tr>\n",
              "      <th>2</th>\n",
              "      <td>HEMAVATHI.R</td>\n",
              "      <td>100.0</td>\n",
              "      <td>100.0</td>\n",
              "      <td>19680</td>\n",
              "      <td>19680</td>\n",
              "      <td>Computer Science and Engineering</td>\n",
              "      <td>0</td>\n",
              "      <td>NaN</td>\n",
              "      <td>NaN</td>\n",
              "    </tr>\n",
              "    <tr>\n",
              "      <th>3</th>\n",
              "      <td>Mugunthan S</td>\n",
              "      <td>100.0</td>\n",
              "      <td>47.0</td>\n",
              "      <td>10610</td>\n",
              "      <td>10610</td>\n",
              "      <td>Computer Science and Engineering</td>\n",
              "      <td>0</td>\n",
              "      <td>NaN</td>\n",
              "      <td>NaN</td>\n",
              "    </tr>\n",
              "    <tr>\n",
              "      <th>4</th>\n",
              "      <td>Sathammai.S</td>\n",
              "      <td>100.0</td>\n",
              "      <td>8.0</td>\n",
              "      <td>8980</td>\n",
              "      <td>8980</td>\n",
              "      <td>Computer Science and Engineering</td>\n",
              "      <td>0</td>\n",
              "      <td>NaN</td>\n",
              "      <td>NaN</td>\n",
              "    </tr>\n",
              "    <tr>\n",
              "      <th>...</th>\n",
              "      <td>...</td>\n",
              "      <td>...</td>\n",
              "      <td>...</td>\n",
              "      <td>...</td>\n",
              "      <td>...</td>\n",
              "      <td>...</td>\n",
              "      <td>...</td>\n",
              "      <td>...</td>\n",
              "      <td>...</td>\n",
              "    </tr>\n",
              "    <tr>\n",
              "      <th>114</th>\n",
              "      <td>praveen raj j</td>\n",
              "      <td>24.0</td>\n",
              "      <td>0.0</td>\n",
              "      <td>2380</td>\n",
              "      <td>2380</td>\n",
              "      <td>Computer Science and Engineering</td>\n",
              "      <td>0</td>\n",
              "      <td>-1.0</td>\n",
              "      <td>0.0</td>\n",
              "    </tr>\n",
              "    <tr>\n",
              "      <th>115</th>\n",
              "      <td>AMARNATH D</td>\n",
              "      <td>-1.0</td>\n",
              "      <td>12.0</td>\n",
              "      <td>1890</td>\n",
              "      <td>1890</td>\n",
              "      <td>Electronics and Communication Engineering</td>\n",
              "      <td>0</td>\n",
              "      <td>52.0</td>\n",
              "      <td>-1.0</td>\n",
              "    </tr>\n",
              "    <tr>\n",
              "      <th>116</th>\n",
              "      <td>bala</td>\n",
              "      <td>32.0</td>\n",
              "      <td>0.0</td>\n",
              "      <td>1720</td>\n",
              "      <td>1720</td>\n",
              "      <td>Electronics and Communication Engineering</td>\n",
              "      <td>0</td>\n",
              "      <td>49.0</td>\n",
              "      <td>-1.0</td>\n",
              "    </tr>\n",
              "    <tr>\n",
              "      <th>117</th>\n",
              "      <td>XY Z</td>\n",
              "      <td>-1.0</td>\n",
              "      <td>-1.0</td>\n",
              "      <td>0</td>\n",
              "      <td>0</td>\n",
              "      <td>Computer Science and Engineering</td>\n",
              "      <td>0</td>\n",
              "      <td>20.0</td>\n",
              "      <td>-1.0</td>\n",
              "    </tr>\n",
              "    <tr>\n",
              "      <th>118</th>\n",
              "      <td>Hariharan</td>\n",
              "      <td>-1.0</td>\n",
              "      <td>-1.0</td>\n",
              "      <td>0</td>\n",
              "      <td>0</td>\n",
              "      <td>Computer Science and Engineering</td>\n",
              "      <td>0</td>\n",
              "      <td>-1.0</td>\n",
              "      <td>0.0</td>\n",
              "    </tr>\n",
              "  </tbody>\n",
              "</table>\n",
              "<p>119 rows × 9 columns</p>\n",
              "</div>\n",
              "      <button class=\"colab-df-convert\" onclick=\"convertToInteractive('df-8172f303-79f4-4345-80ca-e6e0542b98f2')\"\n",
              "              title=\"Convert this dataframe to an interactive table.\"\n",
              "              style=\"display:none;\">\n",
              "        \n",
              "  <svg xmlns=\"http://www.w3.org/2000/svg\" height=\"24px\"viewBox=\"0 0 24 24\"\n",
              "       width=\"24px\">\n",
              "    <path d=\"M0 0h24v24H0V0z\" fill=\"none\"/>\n",
              "    <path d=\"M18.56 5.44l.94 2.06.94-2.06 2.06-.94-2.06-.94-.94-2.06-.94 2.06-2.06.94zm-11 1L8.5 8.5l.94-2.06 2.06-.94-2.06-.94L8.5 2.5l-.94 2.06-2.06.94zm10 10l.94 2.06.94-2.06 2.06-.94-2.06-.94-.94-2.06-.94 2.06-2.06.94z\"/><path d=\"M17.41 7.96l-1.37-1.37c-.4-.4-.92-.59-1.43-.59-.52 0-1.04.2-1.43.59L10.3 9.45l-7.72 7.72c-.78.78-.78 2.05 0 2.83L4 21.41c.39.39.9.59 1.41.59.51 0 1.02-.2 1.41-.59l7.78-7.78 2.81-2.81c.8-.78.8-2.07 0-2.86zM5.41 20L4 18.59l7.72-7.72 1.47 1.35L5.41 20z\"/>\n",
              "  </svg>\n",
              "      </button>\n",
              "      \n",
              "  <style>\n",
              "    .colab-df-container {\n",
              "      display:flex;\n",
              "      flex-wrap:wrap;\n",
              "      gap: 12px;\n",
              "    }\n",
              "\n",
              "    .colab-df-convert {\n",
              "      background-color: #E8F0FE;\n",
              "      border: none;\n",
              "      border-radius: 50%;\n",
              "      cursor: pointer;\n",
              "      display: none;\n",
              "      fill: #1967D2;\n",
              "      height: 32px;\n",
              "      padding: 0 0 0 0;\n",
              "      width: 32px;\n",
              "    }\n",
              "\n",
              "    .colab-df-convert:hover {\n",
              "      background-color: #E2EBFA;\n",
              "      box-shadow: 0px 1px 2px rgba(60, 64, 67, 0.3), 0px 1px 3px 1px rgba(60, 64, 67, 0.15);\n",
              "      fill: #174EA6;\n",
              "    }\n",
              "\n",
              "    [theme=dark] .colab-df-convert {\n",
              "      background-color: #3B4455;\n",
              "      fill: #D2E3FC;\n",
              "    }\n",
              "\n",
              "    [theme=dark] .colab-df-convert:hover {\n",
              "      background-color: #434B5C;\n",
              "      box-shadow: 0px 1px 3px 1px rgba(0, 0, 0, 0.15);\n",
              "      filter: drop-shadow(0px 1px 2px rgba(0, 0, 0, 0.3));\n",
              "      fill: #FFFFFF;\n",
              "    }\n",
              "  </style>\n",
              "\n",
              "      <script>\n",
              "        const buttonEl =\n",
              "          document.querySelector('#df-8172f303-79f4-4345-80ca-e6e0542b98f2 button.colab-df-convert');\n",
              "        buttonEl.style.display =\n",
              "          google.colab.kernel.accessAllowed ? 'block' : 'none';\n",
              "\n",
              "        async function convertToInteractive(key) {\n",
              "          const element = document.querySelector('#df-8172f303-79f4-4345-80ca-e6e0542b98f2');\n",
              "          const dataTable =\n",
              "            await google.colab.kernel.invokeFunction('convertToInteractive',\n",
              "                                                     [key], {});\n",
              "          if (!dataTable) return;\n",
              "\n",
              "          const docLinkHtml = 'Like what you see? Visit the ' +\n",
              "            '<a target=\"_blank\" href=https://colab.research.google.com/notebooks/data_table.ipynb>data table notebook</a>'\n",
              "            + ' to learn more about interactive tables.';\n",
              "          element.innerHTML = '';\n",
              "          dataTable['output_type'] = 'display_data';\n",
              "          await google.colab.output.renderOutput(dataTable, element);\n",
              "          const docLink = document.createElement('div');\n",
              "          docLink.innerHTML = docLinkHtml;\n",
              "          element.appendChild(docLink);\n",
              "        }\n",
              "      </script>\n",
              "    </div>\n",
              "  </div>\n",
              "  "
            ]
          },
          "metadata": {},
          "execution_count": 51
        }
      ]
    },
    {
      "cell_type": "code",
      "source": [
        "data['CodeKata Score'] > 10000"
      ],
      "metadata": {
        "colab": {
          "base_uri": "https://localhost:8080/"
        },
        "id": "wFUEb5fzZIUc",
        "outputId": "2659f420-5f6b-49d5-de84-0394b6497a8b"
      },
      "execution_count": null,
      "outputs": [
        {
          "output_type": "execute_result",
          "data": {
            "text/plain": [
              "0       True\n",
              "1       True\n",
              "2       True\n",
              "3       True\n",
              "4      False\n",
              "       ...  \n",
              "114    False\n",
              "115    False\n",
              "116    False\n",
              "117    False\n",
              "118    False\n",
              "Name: CodeKata Score, Length: 119, dtype: bool"
            ]
          },
          "metadata": {},
          "execution_count": 52
        }
      ]
    },
    {
      "cell_type": "code",
      "source": [
        "Exceeded = data[data['CodeKata Score']>= 15000]"
      ],
      "metadata": {
        "id": "P0EyZ_hBXyTX"
      },
      "execution_count": null,
      "outputs": []
    },
    {
      "cell_type": "code",
      "source": [
        "Exceeded"
      ],
      "metadata": {
        "colab": {
          "base_uri": "https://localhost:8080/",
          "height": 175
        },
        "id": "ZcBfJ7XJ41Az",
        "outputId": "b0013cbb-b19d-439b-f816-46f9e08ace4b"
      },
      "execution_count": null,
      "outputs": [
        {
          "output_type": "execute_result",
          "data": {
            "text/plain": [
              "             Name  python  mysql  Previous Geekions  CodeKata Score  \\\n",
              "0       A.Dharani    82.0   20.0              24500           24500   \n",
              "1     V.JEEVITHA     82.0   20.0              21740           21740   \n",
              "2     HEMAVATHI.R   100.0  100.0              19680           19680   \n",
              "84  ASHOK KUMAR K   100.0   31.0              19400           19400   \n",
              "\n",
              "                                Department  Rising  python_en  \\\n",
              "0         Computer Science and Engineering       0        NaN   \n",
              "1         Computer Science and Engineering       0        NaN   \n",
              "2         Computer Science and Engineering       0        NaN   \n",
              "84  Electronics and Electrical Engineering       0        0.0   \n",
              "\n",
              "    computational_thinking  \n",
              "0                      NaN  \n",
              "1                      NaN  \n",
              "2                      NaN  \n",
              "84                     9.0  "
            ],
            "text/html": [
              "\n",
              "  <div id=\"df-ccbcb783-bc67-41c9-bb10-8c59f3a13f83\">\n",
              "    <div class=\"colab-df-container\">\n",
              "      <div>\n",
              "<style scoped>\n",
              "    .dataframe tbody tr th:only-of-type {\n",
              "        vertical-align: middle;\n",
              "    }\n",
              "\n",
              "    .dataframe tbody tr th {\n",
              "        vertical-align: top;\n",
              "    }\n",
              "\n",
              "    .dataframe thead th {\n",
              "        text-align: right;\n",
              "    }\n",
              "</style>\n",
              "<table border=\"1\" class=\"dataframe\">\n",
              "  <thead>\n",
              "    <tr style=\"text-align: right;\">\n",
              "      <th></th>\n",
              "      <th>Name</th>\n",
              "      <th>python</th>\n",
              "      <th>mysql</th>\n",
              "      <th>Previous Geekions</th>\n",
              "      <th>CodeKata Score</th>\n",
              "      <th>Department</th>\n",
              "      <th>Rising</th>\n",
              "      <th>python_en</th>\n",
              "      <th>computational_thinking</th>\n",
              "    </tr>\n",
              "  </thead>\n",
              "  <tbody>\n",
              "    <tr>\n",
              "      <th>0</th>\n",
              "      <td>A.Dharani</td>\n",
              "      <td>82.0</td>\n",
              "      <td>20.0</td>\n",
              "      <td>24500</td>\n",
              "      <td>24500</td>\n",
              "      <td>Computer Science and Engineering</td>\n",
              "      <td>0</td>\n",
              "      <td>NaN</td>\n",
              "      <td>NaN</td>\n",
              "    </tr>\n",
              "    <tr>\n",
              "      <th>1</th>\n",
              "      <td>V.JEEVITHA</td>\n",
              "      <td>82.0</td>\n",
              "      <td>20.0</td>\n",
              "      <td>21740</td>\n",
              "      <td>21740</td>\n",
              "      <td>Computer Science and Engineering</td>\n",
              "      <td>0</td>\n",
              "      <td>NaN</td>\n",
              "      <td>NaN</td>\n",
              "    </tr>\n",
              "    <tr>\n",
              "      <th>2</th>\n",
              "      <td>HEMAVATHI.R</td>\n",
              "      <td>100.0</td>\n",
              "      <td>100.0</td>\n",
              "      <td>19680</td>\n",
              "      <td>19680</td>\n",
              "      <td>Computer Science and Engineering</td>\n",
              "      <td>0</td>\n",
              "      <td>NaN</td>\n",
              "      <td>NaN</td>\n",
              "    </tr>\n",
              "    <tr>\n",
              "      <th>84</th>\n",
              "      <td>ASHOK KUMAR K</td>\n",
              "      <td>100.0</td>\n",
              "      <td>31.0</td>\n",
              "      <td>19400</td>\n",
              "      <td>19400</td>\n",
              "      <td>Electronics and Electrical Engineering</td>\n",
              "      <td>0</td>\n",
              "      <td>0.0</td>\n",
              "      <td>9.0</td>\n",
              "    </tr>\n",
              "  </tbody>\n",
              "</table>\n",
              "</div>\n",
              "      <button class=\"colab-df-convert\" onclick=\"convertToInteractive('df-ccbcb783-bc67-41c9-bb10-8c59f3a13f83')\"\n",
              "              title=\"Convert this dataframe to an interactive table.\"\n",
              "              style=\"display:none;\">\n",
              "        \n",
              "  <svg xmlns=\"http://www.w3.org/2000/svg\" height=\"24px\"viewBox=\"0 0 24 24\"\n",
              "       width=\"24px\">\n",
              "    <path d=\"M0 0h24v24H0V0z\" fill=\"none\"/>\n",
              "    <path d=\"M18.56 5.44l.94 2.06.94-2.06 2.06-.94-2.06-.94-.94-2.06-.94 2.06-2.06.94zm-11 1L8.5 8.5l.94-2.06 2.06-.94-2.06-.94L8.5 2.5l-.94 2.06-2.06.94zm10 10l.94 2.06.94-2.06 2.06-.94-2.06-.94-.94-2.06-.94 2.06-2.06.94z\"/><path d=\"M17.41 7.96l-1.37-1.37c-.4-.4-.92-.59-1.43-.59-.52 0-1.04.2-1.43.59L10.3 9.45l-7.72 7.72c-.78.78-.78 2.05 0 2.83L4 21.41c.39.39.9.59 1.41.59.51 0 1.02-.2 1.41-.59l7.78-7.78 2.81-2.81c.8-.78.8-2.07 0-2.86zM5.41 20L4 18.59l7.72-7.72 1.47 1.35L5.41 20z\"/>\n",
              "  </svg>\n",
              "      </button>\n",
              "      \n",
              "  <style>\n",
              "    .colab-df-container {\n",
              "      display:flex;\n",
              "      flex-wrap:wrap;\n",
              "      gap: 12px;\n",
              "    }\n",
              "\n",
              "    .colab-df-convert {\n",
              "      background-color: #E8F0FE;\n",
              "      border: none;\n",
              "      border-radius: 50%;\n",
              "      cursor: pointer;\n",
              "      display: none;\n",
              "      fill: #1967D2;\n",
              "      height: 32px;\n",
              "      padding: 0 0 0 0;\n",
              "      width: 32px;\n",
              "    }\n",
              "\n",
              "    .colab-df-convert:hover {\n",
              "      background-color: #E2EBFA;\n",
              "      box-shadow: 0px 1px 2px rgba(60, 64, 67, 0.3), 0px 1px 3px 1px rgba(60, 64, 67, 0.15);\n",
              "      fill: #174EA6;\n",
              "    }\n",
              "\n",
              "    [theme=dark] .colab-df-convert {\n",
              "      background-color: #3B4455;\n",
              "      fill: #D2E3FC;\n",
              "    }\n",
              "\n",
              "    [theme=dark] .colab-df-convert:hover {\n",
              "      background-color: #434B5C;\n",
              "      box-shadow: 0px 1px 3px 1px rgba(0, 0, 0, 0.15);\n",
              "      filter: drop-shadow(0px 1px 2px rgba(0, 0, 0, 0.3));\n",
              "      fill: #FFFFFF;\n",
              "    }\n",
              "  </style>\n",
              "\n",
              "      <script>\n",
              "        const buttonEl =\n",
              "          document.querySelector('#df-ccbcb783-bc67-41c9-bb10-8c59f3a13f83 button.colab-df-convert');\n",
              "        buttonEl.style.display =\n",
              "          google.colab.kernel.accessAllowed ? 'block' : 'none';\n",
              "\n",
              "        async function convertToInteractive(key) {\n",
              "          const element = document.querySelector('#df-ccbcb783-bc67-41c9-bb10-8c59f3a13f83');\n",
              "          const dataTable =\n",
              "            await google.colab.kernel.invokeFunction('convertToInteractive',\n",
              "                                                     [key], {});\n",
              "          if (!dataTable) return;\n",
              "\n",
              "          const docLinkHtml = 'Like what you see? Visit the ' +\n",
              "            '<a target=\"_blank\" href=https://colab.research.google.com/notebooks/data_table.ipynb>data table notebook</a>'\n",
              "            + ' to learn more about interactive tables.';\n",
              "          element.innerHTML = '';\n",
              "          dataTable['output_type'] = 'display_data';\n",
              "          await google.colab.output.renderOutput(dataTable, element);\n",
              "          const docLink = document.createElement('div');\n",
              "          docLink.innerHTML = docLinkHtml;\n",
              "          element.appendChild(docLink);\n",
              "        }\n",
              "      </script>\n",
              "    </div>\n",
              "  </div>\n",
              "  "
            ]
          },
          "metadata": {},
          "execution_count": 54
        }
      ]
    },
    {
      "cell_type": "code",
      "source": [
        "Exceeded.to_csv('Exceeded.csv')"
      ],
      "metadata": {
        "id": "2kFEVyZg_KJc"
      },
      "execution_count": null,
      "outputs": []
    },
    {
      "cell_type": "code",
      "source": [
        "##"
      ],
      "metadata": {
        "id": "B4WbM2X39Avu"
      },
      "execution_count": null,
      "outputs": []
    },
    {
      "cell_type": "code",
      "source": [
        "data[(data['CodeKata Score'] > 10000) & (data['CodeKata Score'] < 15000)]"
      ],
      "metadata": {
        "colab": {
          "base_uri": "https://localhost:8080/",
          "height": 175
        },
        "id": "qOY0wQX9Co08",
        "outputId": "a6754ce6-7624-4c34-829c-a0de661cf4da"
      },
      "execution_count": null,
      "outputs": [
        {
          "output_type": "execute_result",
          "data": {
            "text/plain": [
              "                 Name  python  mysql  Previous Geekions  CodeKata Score  \\\n",
              "3         Mugunthan S   100.0   47.0              10610           10610   \n",
              "85            Chandru     0.0    0.0              14150           14490   \n",
              "86  Ganesh Ramkumar R    -1.0   24.0               8790           10790   \n",
              "87    Bodipudi Harini    -1.0   35.0              10040           10040   \n",
              "\n",
              "                                   Department  Rising  python_en  \\\n",
              "3            Computer Science and Engineering       0        NaN   \n",
              "85           Computer Science and Engineering     340       20.0   \n",
              "86           Computer Science and Engineering    2000       55.0   \n",
              "87  Electronics and Communication Engineering       0        0.0   \n",
              "\n",
              "    computational_thinking  \n",
              "3                      NaN  \n",
              "85                     0.0  \n",
              "86                     6.0  \n",
              "87                    -1.0  "
            ],
            "text/html": [
              "\n",
              "  <div id=\"df-195943e0-ccfa-4e4d-b3e8-265a815b76ab\">\n",
              "    <div class=\"colab-df-container\">\n",
              "      <div>\n",
              "<style scoped>\n",
              "    .dataframe tbody tr th:only-of-type {\n",
              "        vertical-align: middle;\n",
              "    }\n",
              "\n",
              "    .dataframe tbody tr th {\n",
              "        vertical-align: top;\n",
              "    }\n",
              "\n",
              "    .dataframe thead th {\n",
              "        text-align: right;\n",
              "    }\n",
              "</style>\n",
              "<table border=\"1\" class=\"dataframe\">\n",
              "  <thead>\n",
              "    <tr style=\"text-align: right;\">\n",
              "      <th></th>\n",
              "      <th>Name</th>\n",
              "      <th>python</th>\n",
              "      <th>mysql</th>\n",
              "      <th>Previous Geekions</th>\n",
              "      <th>CodeKata Score</th>\n",
              "      <th>Department</th>\n",
              "      <th>Rising</th>\n",
              "      <th>python_en</th>\n",
              "      <th>computational_thinking</th>\n",
              "    </tr>\n",
              "  </thead>\n",
              "  <tbody>\n",
              "    <tr>\n",
              "      <th>3</th>\n",
              "      <td>Mugunthan S</td>\n",
              "      <td>100.0</td>\n",
              "      <td>47.0</td>\n",
              "      <td>10610</td>\n",
              "      <td>10610</td>\n",
              "      <td>Computer Science and Engineering</td>\n",
              "      <td>0</td>\n",
              "      <td>NaN</td>\n",
              "      <td>NaN</td>\n",
              "    </tr>\n",
              "    <tr>\n",
              "      <th>85</th>\n",
              "      <td>Chandru</td>\n",
              "      <td>0.0</td>\n",
              "      <td>0.0</td>\n",
              "      <td>14150</td>\n",
              "      <td>14490</td>\n",
              "      <td>Computer Science and Engineering</td>\n",
              "      <td>340</td>\n",
              "      <td>20.0</td>\n",
              "      <td>0.0</td>\n",
              "    </tr>\n",
              "    <tr>\n",
              "      <th>86</th>\n",
              "      <td>Ganesh Ramkumar R</td>\n",
              "      <td>-1.0</td>\n",
              "      <td>24.0</td>\n",
              "      <td>8790</td>\n",
              "      <td>10790</td>\n",
              "      <td>Computer Science and Engineering</td>\n",
              "      <td>2000</td>\n",
              "      <td>55.0</td>\n",
              "      <td>6.0</td>\n",
              "    </tr>\n",
              "    <tr>\n",
              "      <th>87</th>\n",
              "      <td>Bodipudi Harini</td>\n",
              "      <td>-1.0</td>\n",
              "      <td>35.0</td>\n",
              "      <td>10040</td>\n",
              "      <td>10040</td>\n",
              "      <td>Electronics and Communication Engineering</td>\n",
              "      <td>0</td>\n",
              "      <td>0.0</td>\n",
              "      <td>-1.0</td>\n",
              "    </tr>\n",
              "  </tbody>\n",
              "</table>\n",
              "</div>\n",
              "      <button class=\"colab-df-convert\" onclick=\"convertToInteractive('df-195943e0-ccfa-4e4d-b3e8-265a815b76ab')\"\n",
              "              title=\"Convert this dataframe to an interactive table.\"\n",
              "              style=\"display:none;\">\n",
              "        \n",
              "  <svg xmlns=\"http://www.w3.org/2000/svg\" height=\"24px\"viewBox=\"0 0 24 24\"\n",
              "       width=\"24px\">\n",
              "    <path d=\"M0 0h24v24H0V0z\" fill=\"none\"/>\n",
              "    <path d=\"M18.56 5.44l.94 2.06.94-2.06 2.06-.94-2.06-.94-.94-2.06-.94 2.06-2.06.94zm-11 1L8.5 8.5l.94-2.06 2.06-.94-2.06-.94L8.5 2.5l-.94 2.06-2.06.94zm10 10l.94 2.06.94-2.06 2.06-.94-2.06-.94-.94-2.06-.94 2.06-2.06.94z\"/><path d=\"M17.41 7.96l-1.37-1.37c-.4-.4-.92-.59-1.43-.59-.52 0-1.04.2-1.43.59L10.3 9.45l-7.72 7.72c-.78.78-.78 2.05 0 2.83L4 21.41c.39.39.9.59 1.41.59.51 0 1.02-.2 1.41-.59l7.78-7.78 2.81-2.81c.8-.78.8-2.07 0-2.86zM5.41 20L4 18.59l7.72-7.72 1.47 1.35L5.41 20z\"/>\n",
              "  </svg>\n",
              "      </button>\n",
              "      \n",
              "  <style>\n",
              "    .colab-df-container {\n",
              "      display:flex;\n",
              "      flex-wrap:wrap;\n",
              "      gap: 12px;\n",
              "    }\n",
              "\n",
              "    .colab-df-convert {\n",
              "      background-color: #E8F0FE;\n",
              "      border: none;\n",
              "      border-radius: 50%;\n",
              "      cursor: pointer;\n",
              "      display: none;\n",
              "      fill: #1967D2;\n",
              "      height: 32px;\n",
              "      padding: 0 0 0 0;\n",
              "      width: 32px;\n",
              "    }\n",
              "\n",
              "    .colab-df-convert:hover {\n",
              "      background-color: #E2EBFA;\n",
              "      box-shadow: 0px 1px 2px rgba(60, 64, 67, 0.3), 0px 1px 3px 1px rgba(60, 64, 67, 0.15);\n",
              "      fill: #174EA6;\n",
              "    }\n",
              "\n",
              "    [theme=dark] .colab-df-convert {\n",
              "      background-color: #3B4455;\n",
              "      fill: #D2E3FC;\n",
              "    }\n",
              "\n",
              "    [theme=dark] .colab-df-convert:hover {\n",
              "      background-color: #434B5C;\n",
              "      box-shadow: 0px 1px 3px 1px rgba(0, 0, 0, 0.15);\n",
              "      filter: drop-shadow(0px 1px 2px rgba(0, 0, 0, 0.3));\n",
              "      fill: #FFFFFF;\n",
              "    }\n",
              "  </style>\n",
              "\n",
              "      <script>\n",
              "        const buttonEl =\n",
              "          document.querySelector('#df-195943e0-ccfa-4e4d-b3e8-265a815b76ab button.colab-df-convert');\n",
              "        buttonEl.style.display =\n",
              "          google.colab.kernel.accessAllowed ? 'block' : 'none';\n",
              "\n",
              "        async function convertToInteractive(key) {\n",
              "          const element = document.querySelector('#df-195943e0-ccfa-4e4d-b3e8-265a815b76ab');\n",
              "          const dataTable =\n",
              "            await google.colab.kernel.invokeFunction('convertToInteractive',\n",
              "                                                     [key], {});\n",
              "          if (!dataTable) return;\n",
              "\n",
              "          const docLinkHtml = 'Like what you see? Visit the ' +\n",
              "            '<a target=\"_blank\" href=https://colab.research.google.com/notebooks/data_table.ipynb>data table notebook</a>'\n",
              "            + ' to learn more about interactive tables.';\n",
              "          element.innerHTML = '';\n",
              "          dataTable['output_type'] = 'display_data';\n",
              "          await google.colab.output.renderOutput(dataTable, element);\n",
              "          const docLink = document.createElement('div');\n",
              "          docLink.innerHTML = docLinkHtml;\n",
              "          element.appendChild(docLink);\n",
              "        }\n",
              "      </script>\n",
              "    </div>\n",
              "  </div>\n",
              "  "
            ]
          },
          "metadata": {},
          "execution_count": 57
        }
      ]
    },
    {
      "cell_type": "code",
      "source": [
        "Reached_expectations = data[(data['CodeKata Score'] > 10000) & (data['CodeKata Score'] < 15000)]"
      ],
      "metadata": {
        "id": "7XBSbmRHejNE"
      },
      "execution_count": null,
      "outputs": []
    },
    {
      "cell_type": "code",
      "source": [
        "Reached_expectations"
      ],
      "metadata": {
        "colab": {
          "base_uri": "https://localhost:8080/",
          "height": 175
        },
        "id": "xc5Tf_ED8auJ",
        "outputId": "b7824236-3224-4ceb-c0ac-9e8983cef6ee"
      },
      "execution_count": null,
      "outputs": [
        {
          "output_type": "execute_result",
          "data": {
            "text/plain": [
              "                 Name  python  mysql  Previous Geekions  CodeKata Score  \\\n",
              "3         Mugunthan S   100.0   47.0              10610           10610   \n",
              "85            Chandru     0.0    0.0              14150           14490   \n",
              "86  Ganesh Ramkumar R    -1.0   24.0               8790           10790   \n",
              "87    Bodipudi Harini    -1.0   35.0              10040           10040   \n",
              "\n",
              "                                   Department  Rising  python_en  \\\n",
              "3            Computer Science and Engineering       0        NaN   \n",
              "85           Computer Science and Engineering     340       20.0   \n",
              "86           Computer Science and Engineering    2000       55.0   \n",
              "87  Electronics and Communication Engineering       0        0.0   \n",
              "\n",
              "    computational_thinking  \n",
              "3                      NaN  \n",
              "85                     0.0  \n",
              "86                     6.0  \n",
              "87                    -1.0  "
            ],
            "text/html": [
              "\n",
              "  <div id=\"df-87d07b7b-c219-4cde-a16c-8b716f201240\">\n",
              "    <div class=\"colab-df-container\">\n",
              "      <div>\n",
              "<style scoped>\n",
              "    .dataframe tbody tr th:only-of-type {\n",
              "        vertical-align: middle;\n",
              "    }\n",
              "\n",
              "    .dataframe tbody tr th {\n",
              "        vertical-align: top;\n",
              "    }\n",
              "\n",
              "    .dataframe thead th {\n",
              "        text-align: right;\n",
              "    }\n",
              "</style>\n",
              "<table border=\"1\" class=\"dataframe\">\n",
              "  <thead>\n",
              "    <tr style=\"text-align: right;\">\n",
              "      <th></th>\n",
              "      <th>Name</th>\n",
              "      <th>python</th>\n",
              "      <th>mysql</th>\n",
              "      <th>Previous Geekions</th>\n",
              "      <th>CodeKata Score</th>\n",
              "      <th>Department</th>\n",
              "      <th>Rising</th>\n",
              "      <th>python_en</th>\n",
              "      <th>computational_thinking</th>\n",
              "    </tr>\n",
              "  </thead>\n",
              "  <tbody>\n",
              "    <tr>\n",
              "      <th>3</th>\n",
              "      <td>Mugunthan S</td>\n",
              "      <td>100.0</td>\n",
              "      <td>47.0</td>\n",
              "      <td>10610</td>\n",
              "      <td>10610</td>\n",
              "      <td>Computer Science and Engineering</td>\n",
              "      <td>0</td>\n",
              "      <td>NaN</td>\n",
              "      <td>NaN</td>\n",
              "    </tr>\n",
              "    <tr>\n",
              "      <th>85</th>\n",
              "      <td>Chandru</td>\n",
              "      <td>0.0</td>\n",
              "      <td>0.0</td>\n",
              "      <td>14150</td>\n",
              "      <td>14490</td>\n",
              "      <td>Computer Science and Engineering</td>\n",
              "      <td>340</td>\n",
              "      <td>20.0</td>\n",
              "      <td>0.0</td>\n",
              "    </tr>\n",
              "    <tr>\n",
              "      <th>86</th>\n",
              "      <td>Ganesh Ramkumar R</td>\n",
              "      <td>-1.0</td>\n",
              "      <td>24.0</td>\n",
              "      <td>8790</td>\n",
              "      <td>10790</td>\n",
              "      <td>Computer Science and Engineering</td>\n",
              "      <td>2000</td>\n",
              "      <td>55.0</td>\n",
              "      <td>6.0</td>\n",
              "    </tr>\n",
              "    <tr>\n",
              "      <th>87</th>\n",
              "      <td>Bodipudi Harini</td>\n",
              "      <td>-1.0</td>\n",
              "      <td>35.0</td>\n",
              "      <td>10040</td>\n",
              "      <td>10040</td>\n",
              "      <td>Electronics and Communication Engineering</td>\n",
              "      <td>0</td>\n",
              "      <td>0.0</td>\n",
              "      <td>-1.0</td>\n",
              "    </tr>\n",
              "  </tbody>\n",
              "</table>\n",
              "</div>\n",
              "      <button class=\"colab-df-convert\" onclick=\"convertToInteractive('df-87d07b7b-c219-4cde-a16c-8b716f201240')\"\n",
              "              title=\"Convert this dataframe to an interactive table.\"\n",
              "              style=\"display:none;\">\n",
              "        \n",
              "  <svg xmlns=\"http://www.w3.org/2000/svg\" height=\"24px\"viewBox=\"0 0 24 24\"\n",
              "       width=\"24px\">\n",
              "    <path d=\"M0 0h24v24H0V0z\" fill=\"none\"/>\n",
              "    <path d=\"M18.56 5.44l.94 2.06.94-2.06 2.06-.94-2.06-.94-.94-2.06-.94 2.06-2.06.94zm-11 1L8.5 8.5l.94-2.06 2.06-.94-2.06-.94L8.5 2.5l-.94 2.06-2.06.94zm10 10l.94 2.06.94-2.06 2.06-.94-2.06-.94-.94-2.06-.94 2.06-2.06.94z\"/><path d=\"M17.41 7.96l-1.37-1.37c-.4-.4-.92-.59-1.43-.59-.52 0-1.04.2-1.43.59L10.3 9.45l-7.72 7.72c-.78.78-.78 2.05 0 2.83L4 21.41c.39.39.9.59 1.41.59.51 0 1.02-.2 1.41-.59l7.78-7.78 2.81-2.81c.8-.78.8-2.07 0-2.86zM5.41 20L4 18.59l7.72-7.72 1.47 1.35L5.41 20z\"/>\n",
              "  </svg>\n",
              "      </button>\n",
              "      \n",
              "  <style>\n",
              "    .colab-df-container {\n",
              "      display:flex;\n",
              "      flex-wrap:wrap;\n",
              "      gap: 12px;\n",
              "    }\n",
              "\n",
              "    .colab-df-convert {\n",
              "      background-color: #E8F0FE;\n",
              "      border: none;\n",
              "      border-radius: 50%;\n",
              "      cursor: pointer;\n",
              "      display: none;\n",
              "      fill: #1967D2;\n",
              "      height: 32px;\n",
              "      padding: 0 0 0 0;\n",
              "      width: 32px;\n",
              "    }\n",
              "\n",
              "    .colab-df-convert:hover {\n",
              "      background-color: #E2EBFA;\n",
              "      box-shadow: 0px 1px 2px rgba(60, 64, 67, 0.3), 0px 1px 3px 1px rgba(60, 64, 67, 0.15);\n",
              "      fill: #174EA6;\n",
              "    }\n",
              "\n",
              "    [theme=dark] .colab-df-convert {\n",
              "      background-color: #3B4455;\n",
              "      fill: #D2E3FC;\n",
              "    }\n",
              "\n",
              "    [theme=dark] .colab-df-convert:hover {\n",
              "      background-color: #434B5C;\n",
              "      box-shadow: 0px 1px 3px 1px rgba(0, 0, 0, 0.15);\n",
              "      filter: drop-shadow(0px 1px 2px rgba(0, 0, 0, 0.3));\n",
              "      fill: #FFFFFF;\n",
              "    }\n",
              "  </style>\n",
              "\n",
              "      <script>\n",
              "        const buttonEl =\n",
              "          document.querySelector('#df-87d07b7b-c219-4cde-a16c-8b716f201240 button.colab-df-convert');\n",
              "        buttonEl.style.display =\n",
              "          google.colab.kernel.accessAllowed ? 'block' : 'none';\n",
              "\n",
              "        async function convertToInteractive(key) {\n",
              "          const element = document.querySelector('#df-87d07b7b-c219-4cde-a16c-8b716f201240');\n",
              "          const dataTable =\n",
              "            await google.colab.kernel.invokeFunction('convertToInteractive',\n",
              "                                                     [key], {});\n",
              "          if (!dataTable) return;\n",
              "\n",
              "          const docLinkHtml = 'Like what you see? Visit the ' +\n",
              "            '<a target=\"_blank\" href=https://colab.research.google.com/notebooks/data_table.ipynb>data table notebook</a>'\n",
              "            + ' to learn more about interactive tables.';\n",
              "          element.innerHTML = '';\n",
              "          dataTable['output_type'] = 'display_data';\n",
              "          await google.colab.output.renderOutput(dataTable, element);\n",
              "          const docLink = document.createElement('div');\n",
              "          docLink.innerHTML = docLinkHtml;\n",
              "          element.appendChild(docLink);\n",
              "        }\n",
              "      </script>\n",
              "    </div>\n",
              "  </div>\n",
              "  "
            ]
          },
          "metadata": {},
          "execution_count": 59
        }
      ]
    },
    {
      "cell_type": "code",
      "source": [
        "#"
      ],
      "metadata": {
        "id": "_0qIXqmCAdIr"
      },
      "execution_count": null,
      "outputs": []
    },
    {
      "cell_type": "code",
      "source": [
        "Needs_Improvement = data[(data['CodeKata Score'] > 7000) & (data['CodeKata Score']<10000)]"
      ],
      "metadata": {
        "id": "9Pp_8Va8AdFa"
      },
      "execution_count": null,
      "outputs": []
    },
    {
      "cell_type": "code",
      "source": [
        "Needs_Improvement.to_csv('Needs_Improvement.csv')"
      ],
      "metadata": {
        "id": "6bpQOrfGAc7Y"
      },
      "execution_count": null,
      "outputs": []
    },
    {
      "cell_type": "markdown",
      "metadata": {
        "id": "us9fyXuxASmM"
      },
      "source": [
        "###### Take each csv file , split that csv file into multiple categories (example csv files are added in the repo) \n"
      ]
    },
    {
      "cell_type": "markdown",
      "metadata": {
        "id": "nUUatemOASmM"
      },
      "source": [
        "###### consider if the codekata score exceeds 15000 points(present week) then make a csv on those observations as Exceeded expectations.csv\n"
      ]
    },
    {
      "cell_type": "markdown",
      "metadata": {
        "id": "FXdD9taHASmN"
      },
      "source": [
        "###### if  10000<codekata score<15000   (Reached_expectations.csv)\n",
        "\n",
        "1.   List item\n",
        "2.   List item\n",
        "\n",
        "\n",
        "\n"
      ]
    },
    {
      "cell_type": "markdown",
      "metadata": {
        "id": "sIUOQb4fASmO"
      },
      "source": [
        "###### if  7000<codekata score<10000   (Needs_Improvement.csv)\n"
      ]
    },
    {
      "cell_type": "markdown",
      "metadata": {
        "id": "cJtx6yRzASmP"
      },
      "source": [
        "###### if  codekate score < 7000        (Unsatisfactory.csv)"
      ]
    },
    {
      "cell_type": "code",
      "execution_count": null,
      "metadata": {
        "id": "9Hn6Jk7uASmQ"
      },
      "outputs": [],
      "source": [
        "Unsatisfactory = data[data['CodeKata Score']< 7000]"
      ]
    },
    {
      "cell_type": "code",
      "execution_count": null,
      "metadata": {
        "id": "m60eA6V1ASmQ"
      },
      "outputs": [],
      "source": [
        "Unsatisfactory.to_csv('Unsatisfactory.csv')"
      ]
    },
    {
      "cell_type": "markdown",
      "metadata": {
        "id": "2ga_C4FaASmQ"
      },
      "source": [
        "###### Average of previous week geekions vs this week geekions (i.e Previous Geekions vs CodeKata Score)"
      ]
    },
    {
      "cell_type": "code",
      "execution_count": null,
      "metadata": {
        "id": "oakPl9dGASmR"
      },
      "outputs": [],
      "source": [
        "data['Dummy'] = data['Previous Geekions'] / data['CodeKata Score']"
      ]
    },
    {
      "cell_type": "code",
      "source": [
        "data"
      ],
      "metadata": {
        "colab": {
          "base_uri": "https://localhost:8080/",
          "height": 424
        },
        "id": "D3Ax-uEi3YHp",
        "outputId": "209387c8-3348-4fc7-ce3a-14ec39254303"
      },
      "execution_count": null,
      "outputs": [
        {
          "output_type": "execute_result",
          "data": {
            "text/plain": [
              "              Name  python  mysql  Previous Geekions  CodeKata Score  \\\n",
              "0        A.Dharani    82.0   20.0              24500           24500   \n",
              "1      V.JEEVITHA     82.0   20.0              21740           21740   \n",
              "2      HEMAVATHI.R   100.0  100.0              19680           19680   \n",
              "3      Mugunthan S   100.0   47.0              10610           10610   \n",
              "4      Sathammai.S   100.0    8.0               8980            8980   \n",
              "..             ...     ...    ...                ...             ...   \n",
              "114  praveen raj j    24.0    0.0               2380            2380   \n",
              "115     AMARNATH D    -1.0   12.0               1890            1890   \n",
              "116           bala    32.0    0.0               1720            1720   \n",
              "117           XY Z    -1.0   -1.0                  0               0   \n",
              "118      Hariharan    -1.0   -1.0                  0               0   \n",
              "\n",
              "                                    Department  Rising  python_en  \\\n",
              "0             Computer Science and Engineering       0        NaN   \n",
              "1             Computer Science and Engineering       0        NaN   \n",
              "2             Computer Science and Engineering       0        NaN   \n",
              "3             Computer Science and Engineering       0        NaN   \n",
              "4             Computer Science and Engineering       0        NaN   \n",
              "..                                         ...     ...        ...   \n",
              "114           Computer Science and Engineering       0       -1.0   \n",
              "115  Electronics and Communication Engineering       0       52.0   \n",
              "116  Electronics and Communication Engineering       0       49.0   \n",
              "117           Computer Science and Engineering       0       20.0   \n",
              "118           Computer Science and Engineering       0       -1.0   \n",
              "\n",
              "     computational_thinking  Dummy  \n",
              "0                       NaN    1.0  \n",
              "1                       NaN    1.0  \n",
              "2                       NaN    1.0  \n",
              "3                       NaN    1.0  \n",
              "4                       NaN    1.0  \n",
              "..                      ...    ...  \n",
              "114                     0.0    1.0  \n",
              "115                    -1.0    1.0  \n",
              "116                    -1.0    1.0  \n",
              "117                    -1.0    NaN  \n",
              "118                     0.0    NaN  \n",
              "\n",
              "[119 rows x 10 columns]"
            ],
            "text/html": [
              "\n",
              "  <div id=\"df-5e58a503-d068-4be5-a550-3e1b8b4ddaa6\">\n",
              "    <div class=\"colab-df-container\">\n",
              "      <div>\n",
              "<style scoped>\n",
              "    .dataframe tbody tr th:only-of-type {\n",
              "        vertical-align: middle;\n",
              "    }\n",
              "\n",
              "    .dataframe tbody tr th {\n",
              "        vertical-align: top;\n",
              "    }\n",
              "\n",
              "    .dataframe thead th {\n",
              "        text-align: right;\n",
              "    }\n",
              "</style>\n",
              "<table border=\"1\" class=\"dataframe\">\n",
              "  <thead>\n",
              "    <tr style=\"text-align: right;\">\n",
              "      <th></th>\n",
              "      <th>Name</th>\n",
              "      <th>python</th>\n",
              "      <th>mysql</th>\n",
              "      <th>Previous Geekions</th>\n",
              "      <th>CodeKata Score</th>\n",
              "      <th>Department</th>\n",
              "      <th>Rising</th>\n",
              "      <th>python_en</th>\n",
              "      <th>computational_thinking</th>\n",
              "      <th>Dummy</th>\n",
              "    </tr>\n",
              "  </thead>\n",
              "  <tbody>\n",
              "    <tr>\n",
              "      <th>0</th>\n",
              "      <td>A.Dharani</td>\n",
              "      <td>82.0</td>\n",
              "      <td>20.0</td>\n",
              "      <td>24500</td>\n",
              "      <td>24500</td>\n",
              "      <td>Computer Science and Engineering</td>\n",
              "      <td>0</td>\n",
              "      <td>NaN</td>\n",
              "      <td>NaN</td>\n",
              "      <td>1.0</td>\n",
              "    </tr>\n",
              "    <tr>\n",
              "      <th>1</th>\n",
              "      <td>V.JEEVITHA</td>\n",
              "      <td>82.0</td>\n",
              "      <td>20.0</td>\n",
              "      <td>21740</td>\n",
              "      <td>21740</td>\n",
              "      <td>Computer Science and Engineering</td>\n",
              "      <td>0</td>\n",
              "      <td>NaN</td>\n",
              "      <td>NaN</td>\n",
              "      <td>1.0</td>\n",
              "    </tr>\n",
              "    <tr>\n",
              "      <th>2</th>\n",
              "      <td>HEMAVATHI.R</td>\n",
              "      <td>100.0</td>\n",
              "      <td>100.0</td>\n",
              "      <td>19680</td>\n",
              "      <td>19680</td>\n",
              "      <td>Computer Science and Engineering</td>\n",
              "      <td>0</td>\n",
              "      <td>NaN</td>\n",
              "      <td>NaN</td>\n",
              "      <td>1.0</td>\n",
              "    </tr>\n",
              "    <tr>\n",
              "      <th>3</th>\n",
              "      <td>Mugunthan S</td>\n",
              "      <td>100.0</td>\n",
              "      <td>47.0</td>\n",
              "      <td>10610</td>\n",
              "      <td>10610</td>\n",
              "      <td>Computer Science and Engineering</td>\n",
              "      <td>0</td>\n",
              "      <td>NaN</td>\n",
              "      <td>NaN</td>\n",
              "      <td>1.0</td>\n",
              "    </tr>\n",
              "    <tr>\n",
              "      <th>4</th>\n",
              "      <td>Sathammai.S</td>\n",
              "      <td>100.0</td>\n",
              "      <td>8.0</td>\n",
              "      <td>8980</td>\n",
              "      <td>8980</td>\n",
              "      <td>Computer Science and Engineering</td>\n",
              "      <td>0</td>\n",
              "      <td>NaN</td>\n",
              "      <td>NaN</td>\n",
              "      <td>1.0</td>\n",
              "    </tr>\n",
              "    <tr>\n",
              "      <th>...</th>\n",
              "      <td>...</td>\n",
              "      <td>...</td>\n",
              "      <td>...</td>\n",
              "      <td>...</td>\n",
              "      <td>...</td>\n",
              "      <td>...</td>\n",
              "      <td>...</td>\n",
              "      <td>...</td>\n",
              "      <td>...</td>\n",
              "      <td>...</td>\n",
              "    </tr>\n",
              "    <tr>\n",
              "      <th>114</th>\n",
              "      <td>praveen raj j</td>\n",
              "      <td>24.0</td>\n",
              "      <td>0.0</td>\n",
              "      <td>2380</td>\n",
              "      <td>2380</td>\n",
              "      <td>Computer Science and Engineering</td>\n",
              "      <td>0</td>\n",
              "      <td>-1.0</td>\n",
              "      <td>0.0</td>\n",
              "      <td>1.0</td>\n",
              "    </tr>\n",
              "    <tr>\n",
              "      <th>115</th>\n",
              "      <td>AMARNATH D</td>\n",
              "      <td>-1.0</td>\n",
              "      <td>12.0</td>\n",
              "      <td>1890</td>\n",
              "      <td>1890</td>\n",
              "      <td>Electronics and Communication Engineering</td>\n",
              "      <td>0</td>\n",
              "      <td>52.0</td>\n",
              "      <td>-1.0</td>\n",
              "      <td>1.0</td>\n",
              "    </tr>\n",
              "    <tr>\n",
              "      <th>116</th>\n",
              "      <td>bala</td>\n",
              "      <td>32.0</td>\n",
              "      <td>0.0</td>\n",
              "      <td>1720</td>\n",
              "      <td>1720</td>\n",
              "      <td>Electronics and Communication Engineering</td>\n",
              "      <td>0</td>\n",
              "      <td>49.0</td>\n",
              "      <td>-1.0</td>\n",
              "      <td>1.0</td>\n",
              "    </tr>\n",
              "    <tr>\n",
              "      <th>117</th>\n",
              "      <td>XY Z</td>\n",
              "      <td>-1.0</td>\n",
              "      <td>-1.0</td>\n",
              "      <td>0</td>\n",
              "      <td>0</td>\n",
              "      <td>Computer Science and Engineering</td>\n",
              "      <td>0</td>\n",
              "      <td>20.0</td>\n",
              "      <td>-1.0</td>\n",
              "      <td>NaN</td>\n",
              "    </tr>\n",
              "    <tr>\n",
              "      <th>118</th>\n",
              "      <td>Hariharan</td>\n",
              "      <td>-1.0</td>\n",
              "      <td>-1.0</td>\n",
              "      <td>0</td>\n",
              "      <td>0</td>\n",
              "      <td>Computer Science and Engineering</td>\n",
              "      <td>0</td>\n",
              "      <td>-1.0</td>\n",
              "      <td>0.0</td>\n",
              "      <td>NaN</td>\n",
              "    </tr>\n",
              "  </tbody>\n",
              "</table>\n",
              "<p>119 rows × 10 columns</p>\n",
              "</div>\n",
              "      <button class=\"colab-df-convert\" onclick=\"convertToInteractive('df-5e58a503-d068-4be5-a550-3e1b8b4ddaa6')\"\n",
              "              title=\"Convert this dataframe to an interactive table.\"\n",
              "              style=\"display:none;\">\n",
              "        \n",
              "  <svg xmlns=\"http://www.w3.org/2000/svg\" height=\"24px\"viewBox=\"0 0 24 24\"\n",
              "       width=\"24px\">\n",
              "    <path d=\"M0 0h24v24H0V0z\" fill=\"none\"/>\n",
              "    <path d=\"M18.56 5.44l.94 2.06.94-2.06 2.06-.94-2.06-.94-.94-2.06-.94 2.06-2.06.94zm-11 1L8.5 8.5l.94-2.06 2.06-.94-2.06-.94L8.5 2.5l-.94 2.06-2.06.94zm10 10l.94 2.06.94-2.06 2.06-.94-2.06-.94-.94-2.06-.94 2.06-2.06.94z\"/><path d=\"M17.41 7.96l-1.37-1.37c-.4-.4-.92-.59-1.43-.59-.52 0-1.04.2-1.43.59L10.3 9.45l-7.72 7.72c-.78.78-.78 2.05 0 2.83L4 21.41c.39.39.9.59 1.41.59.51 0 1.02-.2 1.41-.59l7.78-7.78 2.81-2.81c.8-.78.8-2.07 0-2.86zM5.41 20L4 18.59l7.72-7.72 1.47 1.35L5.41 20z\"/>\n",
              "  </svg>\n",
              "      </button>\n",
              "      \n",
              "  <style>\n",
              "    .colab-df-container {\n",
              "      display:flex;\n",
              "      flex-wrap:wrap;\n",
              "      gap: 12px;\n",
              "    }\n",
              "\n",
              "    .colab-df-convert {\n",
              "      background-color: #E8F0FE;\n",
              "      border: none;\n",
              "      border-radius: 50%;\n",
              "      cursor: pointer;\n",
              "      display: none;\n",
              "      fill: #1967D2;\n",
              "      height: 32px;\n",
              "      padding: 0 0 0 0;\n",
              "      width: 32px;\n",
              "    }\n",
              "\n",
              "    .colab-df-convert:hover {\n",
              "      background-color: #E2EBFA;\n",
              "      box-shadow: 0px 1px 2px rgba(60, 64, 67, 0.3), 0px 1px 3px 1px rgba(60, 64, 67, 0.15);\n",
              "      fill: #174EA6;\n",
              "    }\n",
              "\n",
              "    [theme=dark] .colab-df-convert {\n",
              "      background-color: #3B4455;\n",
              "      fill: #D2E3FC;\n",
              "    }\n",
              "\n",
              "    [theme=dark] .colab-df-convert:hover {\n",
              "      background-color: #434B5C;\n",
              "      box-shadow: 0px 1px 3px 1px rgba(0, 0, 0, 0.15);\n",
              "      filter: drop-shadow(0px 1px 2px rgba(0, 0, 0, 0.3));\n",
              "      fill: #FFFFFF;\n",
              "    }\n",
              "  </style>\n",
              "\n",
              "      <script>\n",
              "        const buttonEl =\n",
              "          document.querySelector('#df-5e58a503-d068-4be5-a550-3e1b8b4ddaa6 button.colab-df-convert');\n",
              "        buttonEl.style.display =\n",
              "          google.colab.kernel.accessAllowed ? 'block' : 'none';\n",
              "\n",
              "        async function convertToInteractive(key) {\n",
              "          const element = document.querySelector('#df-5e58a503-d068-4be5-a550-3e1b8b4ddaa6');\n",
              "          const dataTable =\n",
              "            await google.colab.kernel.invokeFunction('convertToInteractive',\n",
              "                                                     [key], {});\n",
              "          if (!dataTable) return;\n",
              "\n",
              "          const docLinkHtml = 'Like what you see? Visit the ' +\n",
              "            '<a target=\"_blank\" href=https://colab.research.google.com/notebooks/data_table.ipynb>data table notebook</a>'\n",
              "            + ' to learn more about interactive tables.';\n",
              "          element.innerHTML = '';\n",
              "          dataTable['output_type'] = 'display_data';\n",
              "          await google.colab.output.renderOutput(dataTable, element);\n",
              "          const docLink = document.createElement('div');\n",
              "          docLink.innerHTML = docLinkHtml;\n",
              "          element.appendChild(docLink);\n",
              "        }\n",
              "      </script>\n",
              "    </div>\n",
              "  </div>\n",
              "  "
            ]
          },
          "metadata": {},
          "execution_count": 184
        }
      ]
    },
    {
      "cell_type": "markdown",
      "metadata": {
        "id": "dMlUVQ_HASmR"
      },
      "source": [
        "###### No of students participated "
      ]
    },
    {
      "cell_type": "code",
      "execution_count": null,
      "metadata": {
        "id": "7TsddsCIASmS",
        "colab": {
          "base_uri": "https://localhost:8080/"
        },
        "outputId": "48c56f98-0f17-4d40-dd77-743cdbff9052"
      },
      "outputs": [
        {
          "output_type": "execute_result",
          "data": {
            "text/plain": [
              "119"
            ]
          },
          "metadata": {},
          "execution_count": 67
        }
      ],
      "source": [
        "len(data)"
      ]
    },
    {
      "cell_type": "markdown",
      "metadata": {
        "id": "aP0IfFAnASmS"
      },
      "source": [
        "###### #Average completion of python course or my_sql or python english or computational thinking"
      ]
    },
    {
      "cell_type": "code",
      "execution_count": null,
      "metadata": {
        "id": "vb6Abs2UASmS",
        "colab": {
          "base_uri": "https://localhost:8080/"
        },
        "outputId": "1d4caa27-7104-472d-c14d-457b6886a60c"
      },
      "outputs": [
        {
          "output_type": "execute_result",
          "data": {
            "text/plain": [
              "array([ 82. , 100. ,  85. ,  27. ,  29. ,  50. ,  56. ,  32. ,  87.5,\n",
              "        16. ,  74. ,  53. ,  93. ,   0. ,   3. ,  43. ,  11. ,  61. ,\n",
              "        97.5,  30. ,  95. ,  45. ,  -1. ,  58. ,  24. ])"
            ]
          },
          "metadata": {},
          "execution_count": 68
        }
      ],
      "source": [
        "data['python'].unique()"
      ]
    },
    {
      "cell_type": "code",
      "source": [
        "data['python'].value_counts()"
      ],
      "metadata": {
        "id": "k5t_ZCmx86uj",
        "colab": {
          "base_uri": "https://localhost:8080/"
        },
        "outputId": "6584bd2d-2cd0-4e13-c8b1-95085753f07f"
      },
      "execution_count": null,
      "outputs": [
        {
          "output_type": "execute_result",
          "data": {
            "text/plain": [
              " 100.0    41\n",
              "-1.0      27\n",
              " 82.0     11\n",
              " 0.0       9\n",
              " 85.0      4\n",
              " 16.0      4\n",
              " 29.0      2\n",
              " 56.0      2\n",
              " 32.0      2\n",
              " 3.0       2\n",
              " 61.0      1\n",
              " 58.0      1\n",
              " 45.0      1\n",
              " 95.0      1\n",
              " 30.0      1\n",
              " 97.5      1\n",
              " 93.0      1\n",
              " 11.0      1\n",
              " 43.0      1\n",
              " 53.0      1\n",
              " 74.0      1\n",
              " 87.5      1\n",
              " 50.0      1\n",
              " 27.0      1\n",
              " 24.0      1\n",
              "Name: python, dtype: int64"
            ]
          },
          "metadata": {},
          "execution_count": 69
        }
      ]
    },
    {
      "cell_type": "code",
      "source": [
        "course_completion = (len(data[data['python'] >= 0]) / len(data['python']) ) * 100         ##\n",
        "course_completion   # average"
      ],
      "metadata": {
        "colab": {
          "base_uri": "https://localhost:8080/"
        },
        "id": "mJrmvbcF9wcn",
        "outputId": "a2a66996-021a-47c9-cb59-ba02e38abec6"
      },
      "execution_count": null,
      "outputs": [
        {
          "output_type": "execute_result",
          "data": {
            "text/plain": [
              "77.31092436974791"
            ]
          },
          "metadata": {},
          "execution_count": 191
        }
      ]
    },
    {
      "cell_type": "markdown",
      "metadata": {
        "id": "-0LN6X5DASmS"
      },
      "source": [
        "###### rising star of the week (top 3 candidate who performed well in that particular week)"
      ]
    },
    {
      "cell_type": "code",
      "execution_count": null,
      "metadata": {
        "id": "iT02_Q2dASmT",
        "colab": {
          "base_uri": "https://localhost:8080/",
          "height": 143
        },
        "outputId": "19cabc7b-88eb-447a-ba1f-51161206db38"
      },
      "outputs": [
        {
          "output_type": "execute_result",
          "data": {
            "text/plain": [
              "          Dummy\n",
              "79  3842.352941\n",
              "80  3842.352941\n",
              "81  3842.352941"
            ],
            "text/html": [
              "\n",
              "  <div id=\"df-0bebbd11-5a9b-4138-bdbe-1409e4dda7cc\">\n",
              "    <div class=\"colab-df-container\">\n",
              "      <div>\n",
              "<style scoped>\n",
              "    .dataframe tbody tr th:only-of-type {\n",
              "        vertical-align: middle;\n",
              "    }\n",
              "\n",
              "    .dataframe tbody tr th {\n",
              "        vertical-align: top;\n",
              "    }\n",
              "\n",
              "    .dataframe thead th {\n",
              "        text-align: right;\n",
              "    }\n",
              "</style>\n",
              "<table border=\"1\" class=\"dataframe\">\n",
              "  <thead>\n",
              "    <tr style=\"text-align: right;\">\n",
              "      <th></th>\n",
              "      <th>Dummy</th>\n",
              "    </tr>\n",
              "  </thead>\n",
              "  <tbody>\n",
              "    <tr>\n",
              "      <th>79</th>\n",
              "      <td>3842.352941</td>\n",
              "    </tr>\n",
              "    <tr>\n",
              "      <th>80</th>\n",
              "      <td>3842.352941</td>\n",
              "    </tr>\n",
              "    <tr>\n",
              "      <th>81</th>\n",
              "      <td>3842.352941</td>\n",
              "    </tr>\n",
              "  </tbody>\n",
              "</table>\n",
              "</div>\n",
              "      <button class=\"colab-df-convert\" onclick=\"convertToInteractive('df-0bebbd11-5a9b-4138-bdbe-1409e4dda7cc')\"\n",
              "              title=\"Convert this dataframe to an interactive table.\"\n",
              "              style=\"display:none;\">\n",
              "        \n",
              "  <svg xmlns=\"http://www.w3.org/2000/svg\" height=\"24px\"viewBox=\"0 0 24 24\"\n",
              "       width=\"24px\">\n",
              "    <path d=\"M0 0h24v24H0V0z\" fill=\"none\"/>\n",
              "    <path d=\"M18.56 5.44l.94 2.06.94-2.06 2.06-.94-2.06-.94-.94-2.06-.94 2.06-2.06.94zm-11 1L8.5 8.5l.94-2.06 2.06-.94-2.06-.94L8.5 2.5l-.94 2.06-2.06.94zm10 10l.94 2.06.94-2.06 2.06-.94-2.06-.94-.94-2.06-.94 2.06-2.06.94z\"/><path d=\"M17.41 7.96l-1.37-1.37c-.4-.4-.92-.59-1.43-.59-.52 0-1.04.2-1.43.59L10.3 9.45l-7.72 7.72c-.78.78-.78 2.05 0 2.83L4 21.41c.39.39.9.59 1.41.59.51 0 1.02-.2 1.41-.59l7.78-7.78 2.81-2.81c.8-.78.8-2.07 0-2.86zM5.41 20L4 18.59l7.72-7.72 1.47 1.35L5.41 20z\"/>\n",
              "  </svg>\n",
              "      </button>\n",
              "      \n",
              "  <style>\n",
              "    .colab-df-container {\n",
              "      display:flex;\n",
              "      flex-wrap:wrap;\n",
              "      gap: 12px;\n",
              "    }\n",
              "\n",
              "    .colab-df-convert {\n",
              "      background-color: #E8F0FE;\n",
              "      border: none;\n",
              "      border-radius: 50%;\n",
              "      cursor: pointer;\n",
              "      display: none;\n",
              "      fill: #1967D2;\n",
              "      height: 32px;\n",
              "      padding: 0 0 0 0;\n",
              "      width: 32px;\n",
              "    }\n",
              "\n",
              "    .colab-df-convert:hover {\n",
              "      background-color: #E2EBFA;\n",
              "      box-shadow: 0px 1px 2px rgba(60, 64, 67, 0.3), 0px 1px 3px 1px rgba(60, 64, 67, 0.15);\n",
              "      fill: #174EA6;\n",
              "    }\n",
              "\n",
              "    [theme=dark] .colab-df-convert {\n",
              "      background-color: #3B4455;\n",
              "      fill: #D2E3FC;\n",
              "    }\n",
              "\n",
              "    [theme=dark] .colab-df-convert:hover {\n",
              "      background-color: #434B5C;\n",
              "      box-shadow: 0px 1px 3px 1px rgba(0, 0, 0, 0.15);\n",
              "      filter: drop-shadow(0px 1px 2px rgba(0, 0, 0, 0.3));\n",
              "      fill: #FFFFFF;\n",
              "    }\n",
              "  </style>\n",
              "\n",
              "      <script>\n",
              "        const buttonEl =\n",
              "          document.querySelector('#df-0bebbd11-5a9b-4138-bdbe-1409e4dda7cc button.colab-df-convert');\n",
              "        buttonEl.style.display =\n",
              "          google.colab.kernel.accessAllowed ? 'block' : 'none';\n",
              "\n",
              "        async function convertToInteractive(key) {\n",
              "          const element = document.querySelector('#df-0bebbd11-5a9b-4138-bdbe-1409e4dda7cc');\n",
              "          const dataTable =\n",
              "            await google.colab.kernel.invokeFunction('convertToInteractive',\n",
              "                                                     [key], {});\n",
              "          if (!dataTable) return;\n",
              "\n",
              "          const docLinkHtml = 'Like what you see? Visit the ' +\n",
              "            '<a target=\"_blank\" href=https://colab.research.google.com/notebooks/data_table.ipynb>data table notebook</a>'\n",
              "            + ' to learn more about interactive tables.';\n",
              "          element.innerHTML = '';\n",
              "          dataTable['output_type'] = 'display_data';\n",
              "          await google.colab.output.renderOutput(dataTable, element);\n",
              "          const docLink = document.createElement('div');\n",
              "          docLink.innerHTML = docLinkHtml;\n",
              "          element.appendChild(docLink);\n",
              "        }\n",
              "      </script>\n",
              "    </div>\n",
              "  </div>\n",
              "  "
            ]
          },
          "metadata": {},
          "execution_count": 71
        }
      ],
      "source": [
        "Rising_star = pd.DataFrame(data['Dummy'].nlargest(3))\n",
        "Rising_star"
      ]
    },
    {
      "cell_type": "markdown",
      "metadata": {
        "id": "SR1OIEH9ASmT"
      },
      "source": [
        "\n",
        "###### Shining stars of the week (top 3 candidates who has highest geekions)"
      ]
    },
    {
      "cell_type": "code",
      "execution_count": null,
      "metadata": {
        "id": "Lji1J-_IASmU",
        "colab": {
          "base_uri": "https://localhost:8080/",
          "height": 143
        },
        "outputId": "3b0316fa-02ab-46db-a1b4-f8b4d0e45858"
      },
      "outputs": [
        {
          "output_type": "execute_result",
          "data": {
            "text/plain": [
              "   CodeKata Score\n",
              "0           24500\n",
              "1           21740\n",
              "2           19680"
            ],
            "text/html": [
              "\n",
              "  <div id=\"df-917fa2ec-06ce-43ba-805f-f0edcbf01291\">\n",
              "    <div class=\"colab-df-container\">\n",
              "      <div>\n",
              "<style scoped>\n",
              "    .dataframe tbody tr th:only-of-type {\n",
              "        vertical-align: middle;\n",
              "    }\n",
              "\n",
              "    .dataframe tbody tr th {\n",
              "        vertical-align: top;\n",
              "    }\n",
              "\n",
              "    .dataframe thead th {\n",
              "        text-align: right;\n",
              "    }\n",
              "</style>\n",
              "<table border=\"1\" class=\"dataframe\">\n",
              "  <thead>\n",
              "    <tr style=\"text-align: right;\">\n",
              "      <th></th>\n",
              "      <th>CodeKata Score</th>\n",
              "    </tr>\n",
              "  </thead>\n",
              "  <tbody>\n",
              "    <tr>\n",
              "      <th>0</th>\n",
              "      <td>24500</td>\n",
              "    </tr>\n",
              "    <tr>\n",
              "      <th>1</th>\n",
              "      <td>21740</td>\n",
              "    </tr>\n",
              "    <tr>\n",
              "      <th>2</th>\n",
              "      <td>19680</td>\n",
              "    </tr>\n",
              "  </tbody>\n",
              "</table>\n",
              "</div>\n",
              "      <button class=\"colab-df-convert\" onclick=\"convertToInteractive('df-917fa2ec-06ce-43ba-805f-f0edcbf01291')\"\n",
              "              title=\"Convert this dataframe to an interactive table.\"\n",
              "              style=\"display:none;\">\n",
              "        \n",
              "  <svg xmlns=\"http://www.w3.org/2000/svg\" height=\"24px\"viewBox=\"0 0 24 24\"\n",
              "       width=\"24px\">\n",
              "    <path d=\"M0 0h24v24H0V0z\" fill=\"none\"/>\n",
              "    <path d=\"M18.56 5.44l.94 2.06.94-2.06 2.06-.94-2.06-.94-.94-2.06-.94 2.06-2.06.94zm-11 1L8.5 8.5l.94-2.06 2.06-.94-2.06-.94L8.5 2.5l-.94 2.06-2.06.94zm10 10l.94 2.06.94-2.06 2.06-.94-2.06-.94-.94-2.06-.94 2.06-2.06.94z\"/><path d=\"M17.41 7.96l-1.37-1.37c-.4-.4-.92-.59-1.43-.59-.52 0-1.04.2-1.43.59L10.3 9.45l-7.72 7.72c-.78.78-.78 2.05 0 2.83L4 21.41c.39.39.9.59 1.41.59.51 0 1.02-.2 1.41-.59l7.78-7.78 2.81-2.81c.8-.78.8-2.07 0-2.86zM5.41 20L4 18.59l7.72-7.72 1.47 1.35L5.41 20z\"/>\n",
              "  </svg>\n",
              "      </button>\n",
              "      \n",
              "  <style>\n",
              "    .colab-df-container {\n",
              "      display:flex;\n",
              "      flex-wrap:wrap;\n",
              "      gap: 12px;\n",
              "    }\n",
              "\n",
              "    .colab-df-convert {\n",
              "      background-color: #E8F0FE;\n",
              "      border: none;\n",
              "      border-radius: 50%;\n",
              "      cursor: pointer;\n",
              "      display: none;\n",
              "      fill: #1967D2;\n",
              "      height: 32px;\n",
              "      padding: 0 0 0 0;\n",
              "      width: 32px;\n",
              "    }\n",
              "\n",
              "    .colab-df-convert:hover {\n",
              "      background-color: #E2EBFA;\n",
              "      box-shadow: 0px 1px 2px rgba(60, 64, 67, 0.3), 0px 1px 3px 1px rgba(60, 64, 67, 0.15);\n",
              "      fill: #174EA6;\n",
              "    }\n",
              "\n",
              "    [theme=dark] .colab-df-convert {\n",
              "      background-color: #3B4455;\n",
              "      fill: #D2E3FC;\n",
              "    }\n",
              "\n",
              "    [theme=dark] .colab-df-convert:hover {\n",
              "      background-color: #434B5C;\n",
              "      box-shadow: 0px 1px 3px 1px rgba(0, 0, 0, 0.15);\n",
              "      filter: drop-shadow(0px 1px 2px rgba(0, 0, 0, 0.3));\n",
              "      fill: #FFFFFF;\n",
              "    }\n",
              "  </style>\n",
              "\n",
              "      <script>\n",
              "        const buttonEl =\n",
              "          document.querySelector('#df-917fa2ec-06ce-43ba-805f-f0edcbf01291 button.colab-df-convert');\n",
              "        buttonEl.style.display =\n",
              "          google.colab.kernel.accessAllowed ? 'block' : 'none';\n",
              "\n",
              "        async function convertToInteractive(key) {\n",
              "          const element = document.querySelector('#df-917fa2ec-06ce-43ba-805f-f0edcbf01291');\n",
              "          const dataTable =\n",
              "            await google.colab.kernel.invokeFunction('convertToInteractive',\n",
              "                                                     [key], {});\n",
              "          if (!dataTable) return;\n",
              "\n",
              "          const docLinkHtml = 'Like what you see? Visit the ' +\n",
              "            '<a target=\"_blank\" href=https://colab.research.google.com/notebooks/data_table.ipynb>data table notebook</a>'\n",
              "            + ' to learn more about interactive tables.';\n",
              "          element.innerHTML = '';\n",
              "          dataTable['output_type'] = 'display_data';\n",
              "          await google.colab.output.renderOutput(dataTable, element);\n",
              "          const docLink = document.createElement('div');\n",
              "          docLink.innerHTML = docLinkHtml;\n",
              "          element.appendChild(docLink);\n",
              "        }\n",
              "      </script>\n",
              "    </div>\n",
              "  </div>\n",
              "  "
            ]
          },
          "metadata": {},
          "execution_count": 72
        }
      ],
      "source": [
        "Shining_star =  pd.DataFrame(data['CodeKata Score'].nlargest(3))\n",
        "Shining_star"
      ]
    },
    {
      "cell_type": "markdown",
      "metadata": {
        "id": "Uaywk5rHASmU"
      },
      "source": [
        "###### Department wise codekata performence (pie chart)"
      ]
    },
    {
      "cell_type": "code",
      "source": [
        "d1 = data.loc[:,['Department','CodeKata Score']]"
      ],
      "metadata": {
        "id": "rPJ-aSHOsZ_M"
      },
      "execution_count": null,
      "outputs": []
    },
    {
      "cell_type": "code",
      "source": [
        "df = d1.groupby('Department')['CodeKata Score']\n",
        "df.first()"
      ],
      "metadata": {
        "colab": {
          "base_uri": "https://localhost:8080/"
        },
        "id": "syoB0QQSn48_",
        "outputId": "27eb2a56-3cda-48a8-cc43-ca144bd61786"
      },
      "execution_count": null,
      "outputs": [
        {
          "output_type": "execute_result",
          "data": {
            "text/plain": [
              "Department\n",
              "Computer Science and Engineering             24500\n",
              "Electronics and Communication Engineering     7880\n",
              "Electronics and Electrical Engineering         260\n",
              "Name: CodeKata Score, dtype: int64"
            ]
          },
          "metadata": {},
          "execution_count": 139
        }
      ]
    },
    {
      "cell_type": "code",
      "source": [
        "Computer_Science_and_Engineering = df.get_group('Computer Science and Engineering')"
      ],
      "metadata": {
        "id": "nOjF7F1kz2Hx"
      },
      "execution_count": null,
      "outputs": []
    },
    {
      "cell_type": "code",
      "source": [
        "Electronics_and_Communication_Engineering = df.get_group('Electronics and Communication Engineering')\n",
        "Electronics_and_Electrical_Engineering = df.get_group('Electronics and Electrical Engineering')"
      ],
      "metadata": {
        "id": "2RWVGqFcz2Hy"
      },
      "execution_count": null,
      "outputs": []
    },
    {
      "cell_type": "code",
      "source": [
        "Electronics_and_Electrical_Engineering.plot.pie(y ='Electronics_and_Electrical_Engineering', figsize=(11,6))"
      ],
      "metadata": {
        "colab": {
          "base_uri": "https://localhost:8080/",
          "height": 374
        },
        "id": "bDCfXWmb2neF",
        "outputId": "930b576d-d3d7-4b34-9f09-c34504566c5e"
      },
      "execution_count": null,
      "outputs": [
        {
          "output_type": "execute_result",
          "data": {
            "text/plain": [
              "<matplotlib.axes._subplots.AxesSubplot at 0x7f890a30a650>"
            ]
          },
          "metadata": {},
          "execution_count": 149
        },
        {
          "output_type": "display_data",
          "data": {
            "text/plain": [
              "<Figure size 792x432 with 1 Axes>"
            ],
            "image/png": "[encoded data removed]"
          },
          "metadata": {}
        }
      ]
    },
    {
      "cell_type": "code",
      "source": [
        "Electronics_and_Communication_Engineering.plot.pie(y ='Electronics_and_Communication_Engineering', figsize=(11,6))"
      ],
      "metadata": {
        "colab": {
          "base_uri": "https://localhost:8080/",
          "height": 374
        },
        "id": "EiEg7oUSz0BC",
        "outputId": "095eefd8-1c0a-4b03-8f34-72616661b060"
      },
      "execution_count": null,
      "outputs": [
        {
          "output_type": "execute_result",
          "data": {
            "text/plain": [
              "<matplotlib.axes._subplots.AxesSubplot at 0x7f890a2fe910>"
            ]
          },
          "metadata": {},
          "execution_count": 148
        },
        {
          "output_type": "display_data",
          "data": {
            "text/plain": [
              "<Figure size 792x432 with 1 Axes>"
            ],
            "image/png": "[encoded data removed]"
          },
          "metadata": {}
        }
      ]
    },
    {
      "cell_type": "code",
      "source": [
        "Computer_Science_and_Engineering.plot.pie(y ='Computer_Science_and_Engineering ', figsize=(11,6))"
      ],
      "metadata": {
        "colab": {
          "base_uri": "https://localhost:8080/",
          "height": 374
        },
        "id": "RoTAOFiouhCn",
        "outputId": "776e0141-8002-4ce0-89ae-4e0994a30178"
      },
      "execution_count": null,
      "outputs": [
        {
          "output_type": "execute_result",
          "data": {
            "text/plain": [
              "<matplotlib.axes._subplots.AxesSubplot at 0x7f890a30acd0>"
            ]
          },
          "metadata": {},
          "execution_count": 147
        },
        {
          "output_type": "display_data",
          "data": {
            "text/plain": [
              "<Figure size 792x432 with 1 Axes>"
            ],
            "image/png": "[encoded data removed]"
          },
          "metadata": {}
        }
      ]
    },
    {
      "cell_type": "markdown",
      "metadata": {
        "id": "myZUSQWRASmV"
      },
      "source": [
        "###### Department wise toppers (horizantal bar graph or any visual representations of your choice)"
      ]
    },
    {
      "cell_type": "code",
      "execution_count": null,
      "metadata": {
        "id": "u--XJJA-ASmV"
      },
      "outputs": [],
      "source": [
        "import seaborn as sns\n",
        "import matplotlib.pyplot as plt"
      ]
    },
    {
      "cell_type": "code",
      "execution_count": null,
      "metadata": {
        "id": "7mccLLCFASmV"
      },
      "outputs": [],
      "source": [
        "m1 = [Computer_Science_and_Engineering.max(), Electronics_and_Communication_Engineering.max() ,Electronics_and_Electrical_Engineering.max()]\n",
        "m2 =  ['Computer_Science_and_Engineering','Electronics_and_Communication_Engineering','Electronics_and_Electrical_Engineering']"
      ]
    },
    {
      "cell_type": "code",
      "execution_count": null,
      "metadata": {
        "id": "6Bhi0Mc6ASmV",
        "colab": {
          "base_uri": "https://localhost:8080/",
          "height": 337
        },
        "outputId": "137595fe-389e-4be6-847c-691f7f2e53bd"
      },
      "outputs": [
        {
          "output_type": "stream",
          "name": "stderr",
          "text": [
            "/usr/local/lib/python3.7/dist-packages/seaborn/_decorators.py:43: FutureWarning: Pass the following variables as keyword args: x, y. From version 0.12, the only valid positional argument will be `data`, and passing other arguments without an explicit keyword will result in an error or misinterpretation.\n",
            "  FutureWarning\n"
          ]
        },
        {
          "output_type": "execute_result",
          "data": {
            "text/plain": [
              "<matplotlib.axes._subplots.AxesSubplot at 0x7f890944fd90>"
            ]
          },
          "metadata": {},
          "execution_count": 172
        },
        {
          "output_type": "display_data",
          "data": {
            "text/plain": [
              "<Figure size 432x288 with 1 Axes>"
            ],
            "image/png": "[encoded data removed]"
          },
          "metadata": {
            "needs_background": "light"
          }
        }
      ],
      "source": [
        "sns.barplot(m1,m2)"
      ]
    },
    {
      "cell_type": "code",
      "source": [
        "sns.histplot(Computer_Science_and_Engineering)"
      ],
      "metadata": {
        "colab": {
          "base_uri": "https://localhost:8080/",
          "height": 299
        },
        "id": "KBNw2z_l7HIQ",
        "outputId": "cee2bea0-121f-46c4-9690-8f6c64444b66"
      },
      "execution_count": null,
      "outputs": [
        {
          "output_type": "execute_result",
          "data": {
            "text/plain": [
              "<matplotlib.axes._subplots.AxesSubplot at 0x7f89094afb10>"
            ]
          },
          "metadata": {},
          "execution_count": 165
        },
        {
          "output_type": "display_data",
          "data": {
            "text/plain": [
              "<Figure size 432x288 with 1 Axes>"
            ],
            "image/png": "[encoded data removed]"
          },
          "metadata": {
            "needs_background": "light"
          }
        }
      ]
    },
    {
      "cell_type": "code",
      "execution_count": null,
      "metadata": {
        "id": "_Tn15I9oASmV"
      },
      "outputs": [],
      "source": []
    }
  ],
  "metadata": {
    "kernelspec": {
      "display_name": "Python 3",
      "language": "python",
      "name": "python3"
    },
    "language_info": {
      "codemirror_mode": {
        "name": "ipython",
        "version": 3
      },
      "file_extension": ".py",
      "mimetype": "text/x-python",
      "name": "python",
      "nbconvert_exporter": "python",
      "pygments_lexer": "ipython3",
      "version": "3.8.3"
    },
    "colab": {
      "provenance": [],
      "include_colab_link": true
    }
  },
  "nbformat": 4,
  "nbformat_minor": 0
}